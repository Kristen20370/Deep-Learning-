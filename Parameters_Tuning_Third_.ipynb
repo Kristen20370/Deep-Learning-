{
  "nbformat": 4,
  "nbformat_minor": 0,
  "metadata": {
    "colab": {
      "provenance": []
    },
    "kernelspec": {
      "name": "python3",
      "display_name": "Python 3"
    },
    "language_info": {
      "name": "python"
    }
  },
  "cells": [
    {
      "cell_type": "markdown",
      "source": [
        "# The Third set of parameters\n",
        "\n",
        "**maxlen = 200,\n",
        "batch size = 8,\n",
        "epochs = 10,\n",
        "steps per epoch = 64,\n",
        "embedding dimension = 64**"
      ],
      "metadata": {
        "id": "QrFqcK5r93JM"
      }
    },
    {
      "cell_type": "code",
      "execution_count": 1,
      "metadata": {
        "colab": {
          "base_uri": "https://localhost:8080/"
        },
        "id": "r-dSxNB_S64m",
        "outputId": "88e054e8-c4fd-4c0e-c665-3778b0dc863f"
      },
      "outputs": [
        {
          "output_type": "stream",
          "name": "stdout",
          "text": [
            "Mounted at /content/drive\n"
          ]
        }
      ],
      "source": [
        "from google.colab import drive\n",
        "drive.mount('/content/drive')"
      ]
    },
    {
      "cell_type": "code",
      "source": [
        "import pandas as pd\n",
        "import numpy as np\n",
        "import matplotlib.pyplot as plt\n",
        "import keras\n",
        "\n",
        "df=pd.read_csv(\"/content/drive/MyDrive/Colab Notebooks/SU23 Deep Learning/Final Project/Yelp Restaurant Reviews.csv\",index_col=0)\n",
        "df=df.loc[:,[\"Review Text\",\"Rating\"]].dropna().reset_index(drop=True)"
      ],
      "metadata": {
        "id": "mY3Ksu2Xw_TV"
      },
      "execution_count": 2,
      "outputs": []
    },
    {
      "cell_type": "code",
      "source": [
        "from sklearn.model_selection import train_test_split\n",
        "rev=df[\"Review Text\"]\n",
        "target=df[\"Rating\"]\n",
        "x_train, x_test, y_train, y_test = train_test_split(rev,target,test_size=0.2,random_state=0,stratify=target)"
      ],
      "metadata": {
        "id": "RcxyAyqM0lgX"
      },
      "execution_count": 3,
      "outputs": []
    },
    {
      "cell_type": "code",
      "source": [
        "from tensorflow.keras.preprocessing.sequence import pad_sequences\n",
        "from tensorflow.keras.preprocessing.text import Tokenizer\n",
        "\n",
        "#Text sampling\n",
        "max_features = 10000\n",
        "maxlen = 200\n",
        "batch_size = 8\n",
        "\n",
        "#Tokenizing\n",
        "tokenizer=Tokenizer(max_features,oov_token=\"<OOV>\")\n",
        "tokenizer.fit_on_texts(x_train)\n",
        "X_train=tokenizer.texts_to_sequences(x_train)\n",
        "X_test=tokenizer.texts_to_sequences(x_test)\n",
        "print(len(X_train), 'train sequences')\n",
        "print(len(X_test), 'test sequences')\n",
        "\n",
        "#Turns tockenized texts into padded sequences\n",
        "print('Pad sequences (samples x text length)')\n",
        "X_train = pad_sequences(X_train, maxlen=maxlen)\n",
        "X_test = pad_sequences(X_test, maxlen=maxlen)\n",
        "print('X_train shape:', X_train.shape)\n",
        "print('X_test shape:', X_test.shape)"
      ],
      "metadata": {
        "colab": {
          "base_uri": "https://localhost:8080/"
        },
        "id": "lh6y7l2o3zWA",
        "outputId": "ae0fd97a-13ce-4c88-d35b-4e0c20046486"
      },
      "execution_count": 4,
      "outputs": [
        {
          "output_type": "stream",
          "name": "stdout",
          "text": [
            "15916 train sequences\n",
            "3980 test sequences\n",
            "Pad sequences (samples x text length)\n",
            "X_train shape: (15916, 200)\n",
            "X_test shape: (3980, 200)\n"
          ]
        }
      ]
    },
    {
      "cell_type": "markdown",
      "source": [
        "# SimpleRNN"
      ],
      "metadata": {
        "id": "csUM3NkP9NT4"
      }
    },
    {
      "cell_type": "code",
      "source": [
        "from keras.models import Sequential\n",
        "from keras.layers import Embedding, SimpleRNN, Dense\n",
        "\n",
        "model = Sequential()\n",
        "embedding_dim = 64\n",
        "model.add(Embedding(max_features, embedding_dim, input_length=maxlen))\n",
        "model.add(SimpleRNN(64, return_sequences=True))\n",
        "model.add(SimpleRNN(32, return_sequences=True))\n",
        "model.add(SimpleRNN(16))\n",
        "model.add(Dense(1))\n",
        "\n",
        "model.compile(optimizer='adam', loss='mae', metrics='mape') #mape: Mean Absolute Percentage Error\n",
        "history = model.fit(X_train, y_train,\n",
        "                    epochs=10,\n",
        "                    steps_per_epoch = 64,\n",
        "                    batch_size=batch_size,\n",
        "                   validation_data=(X_test,y_test))\n",
        "\n",
        "keras.backend.clear_session()\n",
        "del model"
      ],
      "metadata": {
        "colab": {
          "base_uri": "https://localhost:8080/"
        },
        "id": "xprYia1C6FMQ",
        "outputId": "e9c635d9-f9a6-4e47-cc79-14036d95b43c"
      },
      "execution_count": 5,
      "outputs": [
        {
          "output_type": "stream",
          "name": "stdout",
          "text": [
            "Epoch 1/10\n",
            "64/64 [==============================] - 32s 448ms/step - loss: 1.3891 - mape: 43.2056 - val_loss: 0.9200 - val_mape: 42.5311\n",
            "Epoch 2/10\n",
            "64/64 [==============================] - 29s 453ms/step - loss: 0.9048 - mape: 43.1671 - val_loss: 0.8984 - val_mape: 44.2470\n",
            "Epoch 3/10\n",
            "64/64 [==============================] - 30s 481ms/step - loss: 0.8832 - mape: 46.6766 - val_loss: 0.8730 - val_mape: 46.2616\n",
            "Epoch 4/10\n",
            "64/64 [==============================] - 23s 362ms/step - loss: 0.8719 - mape: 47.4656 - val_loss: 0.8725 - val_mape: 46.2928\n",
            "Epoch 5/10\n",
            "64/64 [==============================] - 28s 448ms/step - loss: 0.8311 - mape: 41.8758 - val_loss: 0.8699 - val_mape: 46.5014\n",
            "Epoch 6/10\n",
            "64/64 [==============================] - 21s 328ms/step - loss: 0.8702 - mape: 47.2314 - val_loss: 0.8701 - val_mape: 46.4843\n",
            "Epoch 7/10\n",
            "64/64 [==============================] - 23s 361ms/step - loss: 0.8904 - mape: 52.1088 - val_loss: 0.8710 - val_mape: 46.4122\n",
            "Epoch 8/10\n",
            "64/64 [==============================] - 21s 329ms/step - loss: 0.8585 - mape: 44.0272 - val_loss: 0.8692 - val_mape: 46.5943\n",
            "Epoch 9/10\n",
            "64/64 [==============================] - 23s 356ms/step - loss: 0.8948 - mape: 45.5184 - val_loss: 0.8778 - val_mape: 45.8660\n",
            "Epoch 10/10\n",
            "64/64 [==============================] - 29s 458ms/step - loss: 0.8208 - mape: 41.5245 - val_loss: 0.8702 - val_mape: 46.4656\n"
          ]
        }
      ]
    },
    {
      "cell_type": "markdown",
      "source": [
        "# Pure CNN with word Embedding"
      ],
      "metadata": {
        "id": "RgGzs9v29Slz"
      }
    },
    {
      "cell_type": "code",
      "source": [
        "from keras.models import Sequential\n",
        "from keras.layers import Embedding\n",
        "from keras import layers\n",
        "\n",
        "model = Sequential()\n",
        "embedding_dim = 64\n",
        "model.add(Embedding(max_features, embedding_dim, input_length=maxlen))\n",
        "model.add(layers.Conv1D(64, 5, activation='relu'))\n",
        "model.add(layers.MaxPooling1D(3))\n",
        "model.add(layers.Conv1D(32, 5, activation='relu'))\n",
        "model.add(layers.GlobalMaxPooling1D())\n",
        "model.add(layers.Dense(1))\n",
        "\n",
        "model.compile(optimizer='adam', loss='mae', metrics='mape') #mape: Mean Absolute Percentage Error\n",
        "history = model.fit(X_train, y_train,\n",
        "                    epochs=10,\n",
        "                    steps_per_epoch = 64,\n",
        "                    batch_size=batch_size,\n",
        "                   validation_data=(X_test,y_test))\n",
        "\n",
        "keras.backend.clear_session()\n",
        "del model"
      ],
      "metadata": {
        "id": "5CHgQg7M98Gb",
        "colab": {
          "base_uri": "https://localhost:8080/"
        },
        "outputId": "707acbc3-b0f8-465e-fe4f-60119972b699"
      },
      "execution_count": 6,
      "outputs": [
        {
          "output_type": "stream",
          "name": "stdout",
          "text": [
            "Epoch 1/10\n",
            "64/64 [==============================] - 4s 42ms/step - loss: 1.9824 - mape: 68.8460 - val_loss: 0.9075 - val_mape: 39.4654\n",
            "Epoch 2/10\n",
            "64/64 [==============================] - 2s 38ms/step - loss: 0.9558 - mape: 44.2145 - val_loss: 0.8379 - val_mape: 38.5946\n",
            "Epoch 3/10\n",
            "64/64 [==============================] - 4s 57ms/step - loss: 0.8399 - mape: 37.3487 - val_loss: 0.8158 - val_mape: 38.9592\n",
            "Epoch 4/10\n",
            "64/64 [==============================] - 4s 69ms/step - loss: 0.8632 - mape: 40.7771 - val_loss: 0.8001 - val_mape: 37.0872\n",
            "Epoch 5/10\n",
            "64/64 [==============================] - 2s 39ms/step - loss: 0.7926 - mape: 33.5856 - val_loss: 0.8163 - val_mape: 34.1767\n",
            "Epoch 6/10\n",
            "64/64 [==============================] - 4s 57ms/step - loss: 0.8552 - mape: 39.9248 - val_loss: 0.7741 - val_mape: 34.1882\n",
            "Epoch 7/10\n",
            "64/64 [==============================] - 3s 41ms/step - loss: 0.7868 - mape: 35.4705 - val_loss: 0.7675 - val_mape: 34.7202\n",
            "Epoch 8/10\n",
            "64/64 [==============================] - 4s 58ms/step - loss: 0.7884 - mape: 37.6963 - val_loss: 0.7641 - val_mape: 33.5393\n",
            "Epoch 9/10\n",
            "64/64 [==============================] - 3s 48ms/step - loss: 0.7922 - mape: 34.4018 - val_loss: 0.7575 - val_mape: 33.3174\n",
            "Epoch 10/10\n",
            "64/64 [==============================] - 4s 57ms/step - loss: 0.7323 - mape: 30.6931 - val_loss: 0.7418 - val_mape: 34.1888\n"
          ]
        }
      ]
    },
    {
      "cell_type": "markdown",
      "source": [
        "# Pure LSTM with Word Embedding"
      ],
      "metadata": {
        "id": "wfWwP5Cn9bKu"
      }
    },
    {
      "cell_type": "code",
      "source": [
        "from keras.models import Sequential\n",
        "from keras.layers import Embedding\n",
        "from keras import layers\n",
        "\n",
        "model = Sequential()\n",
        "embedding_dim = 64\n",
        "model.add(Embedding(max_features, embedding_dim, input_length=maxlen))\n",
        "model.add(layers.LSTM(32,dropout=0.2,recurrent_dropout=0.2,return_sequences=True))\n",
        "model.add(layers.LSTM(16))\n",
        "model.add(layers.Dense(1))\n",
        "model.compile(optimizer='adam', loss='mae', metrics='mape')\n",
        "history = model.fit(X_train, y_train,\n",
        "                    epochs=10,\n",
        "                    steps_per_epoch = 64,\n",
        "                    batch_size=batch_size,\n",
        "                    validation_data=(X_test,y_test))\n",
        "keras.backend.clear_session()\n",
        "del model"
      ],
      "metadata": {
        "id": "Ws9FPgb2auW8",
        "colab": {
          "base_uri": "https://localhost:8080/"
        },
        "outputId": "bce241cd-c11d-4be8-e65d-908d1dbfdb90"
      },
      "execution_count": 7,
      "outputs": [
        {
          "output_type": "stream",
          "name": "stdout",
          "text": [
            "Epoch 1/10\n",
            "64/64 [==============================] - 46s 650ms/step - loss: 2.4295 - mape: 61.4263 - val_loss: 1.0511 - val_mape: 39.7621\n",
            "Epoch 2/10\n",
            "64/64 [==============================] - 37s 589ms/step - loss: 0.9553 - mape: 43.8990 - val_loss: 0.9110 - val_mape: 43.2483\n",
            "Epoch 3/10\n",
            "64/64 [==============================] - 39s 617ms/step - loss: 0.9054 - mape: 45.8000 - val_loss: 0.8788 - val_mape: 45.7955\n",
            "Epoch 4/10\n",
            "64/64 [==============================] - 39s 617ms/step - loss: 0.8520 - mape: 43.7827 - val_loss: 0.8695 - val_mape: 46.5360\n",
            "Epoch 5/10\n",
            "64/64 [==============================] - 39s 616ms/step - loss: 0.8890 - mape: 49.1702 - val_loss: 0.8701 - val_mape: 46.4865\n",
            "Epoch 6/10\n",
            "64/64 [==============================] - 41s 639ms/step - loss: 0.9353 - mape: 50.7582 - val_loss: 0.8742 - val_mape: 46.1589\n",
            "Epoch 7/10\n",
            "64/64 [==============================] - 38s 593ms/step - loss: 0.8893 - mape: 45.5898 - val_loss: 0.8749 - val_mape: 46.0972\n",
            "Epoch 8/10\n",
            "64/64 [==============================] - 36s 575ms/step - loss: 0.8529 - mape: 42.0439 - val_loss: 0.8707 - val_mape: 46.4289\n",
            "Epoch 9/10\n",
            "64/64 [==============================] - 37s 583ms/step - loss: 0.8368 - mape: 44.6281 - val_loss: 0.8753 - val_mape: 46.0654\n",
            "Epoch 10/10\n",
            "64/64 [==============================] - 40s 623ms/step - loss: 0.9748 - mape: 50.5642 - val_loss: 0.8760 - val_mape: 46.0038\n"
          ]
        }
      ]
    },
    {
      "cell_type": "markdown",
      "source": [
        "# Combine CNN and LSTM with Word Embedding"
      ],
      "metadata": {
        "id": "27JWrvNc9jHr"
      }
    },
    {
      "cell_type": "code",
      "source": [
        "from keras.models import Sequential\n",
        "from keras.layers import Embedding, LSTM, Conv1D, MaxPooling1D\n",
        "from keras.layers import Dense\n",
        "\n",
        "model = Sequential()\n",
        "embedding_dim = 64\n",
        "model.add(Embedding(max_features, embedding_dim, input_length=maxlen))\n",
        "model.add(layers.Conv1D(64, 5, activation='relu'))\n",
        "model.add(layers.MaxPooling1D(3))\n",
        "model.add(layers.Conv1D(32, 5, activation='relu'))\n",
        "model.add(layers.LSTM(32,dropout=0.2,recurrent_dropout=0.2,return_sequences=True))\n",
        "model.add(layers.LSTM(16))\n",
        "model.add(layers.Dense(1))\n",
        "\n",
        "model.compile(optimizer='adam', loss='mae', metrics='mape')\n",
        "history = model.fit(X_train, y_train,\n",
        "                    epochs=10,\n",
        "                    steps_per_epoch = 64,\n",
        "                    batch_size=batch_size,\n",
        "                   validation_data=(X_test,y_test))\n",
        "keras.backend.clear_session()\n",
        "del model"
      ],
      "metadata": {
        "id": "fvW9qASiep7o",
        "colab": {
          "base_uri": "https://localhost:8080/"
        },
        "outputId": "dcd9d59a-80bf-4d99-eaa4-b2d7d91ae73c"
      },
      "execution_count": 8,
      "outputs": [
        {
          "output_type": "stream",
          "name": "stdout",
          "text": [
            "Epoch 1/10\n",
            "64/64 [==============================] - 22s 234ms/step - loss: 1.9487 - mape: 56.1985 - val_loss: 0.9224 - val_mape: 42.2480\n",
            "Epoch 2/10\n",
            "64/64 [==============================] - 16s 258ms/step - loss: 0.7943 - mape: 39.4308 - val_loss: 0.8684 - val_mape: 46.4591\n",
            "Epoch 3/10\n",
            "64/64 [==============================] - 17s 262ms/step - loss: 0.7865 - mape: 37.9147 - val_loss: 0.8670 - val_mape: 46.3123\n",
            "Epoch 4/10\n",
            "64/64 [==============================] - 14s 225ms/step - loss: 0.8429 - mape: 44.2264 - val_loss: 0.8672 - val_mape: 45.6058\n",
            "Epoch 5/10\n",
            "64/64 [==============================] - 14s 223ms/step - loss: 0.9099 - mape: 47.4988 - val_loss: 0.8432 - val_mape: 40.0188\n",
            "Epoch 6/10\n",
            "64/64 [==============================] - 14s 223ms/step - loss: 0.8690 - mape: 43.4008 - val_loss: 0.7296 - val_mape: 37.0168\n",
            "Epoch 7/10\n",
            "64/64 [==============================] - 14s 224ms/step - loss: 0.7043 - mape: 35.8533 - val_loss: 0.6931 - val_mape: 32.1336\n",
            "Epoch 8/10\n",
            "64/64 [==============================] - 14s 223ms/step - loss: 0.7258 - mape: 34.1528 - val_loss: 0.6641 - val_mape: 28.9786\n",
            "Epoch 9/10\n",
            "64/64 [==============================] - 14s 221ms/step - loss: 0.7370 - mape: 34.8369 - val_loss: 0.6564 - val_mape: 26.1126\n",
            "Epoch 10/10\n",
            "64/64 [==============================] - 14s 226ms/step - loss: 0.6032 - mape: 26.1535 - val_loss: 0.7046 - val_mape: 35.7208\n"
          ]
        }
      ]
    },
    {
      "cell_type": "markdown",
      "source": [
        "# Combine CNN with Bidirectional LSTM"
      ],
      "metadata": {
        "id": "QIY4RYXN9q1w"
      }
    },
    {
      "cell_type": "code",
      "source": [
        "from keras.models import Sequential\n",
        "from keras.layers import Embedding, LSTM, Conv1D, MaxPooling1D\n",
        "from keras.layers import Dense\n",
        "\n",
        "model = Sequential()\n",
        "embedding_dim = 64\n",
        "model.add(Embedding(max_features, embedding_dim, input_length=maxlen))\n",
        "model.add(layers.Conv1D(64, 5, activation='relu'))\n",
        "model.add(layers.MaxPooling1D(3))\n",
        "model.add(layers.Conv1D(32, 5, activation='relu'))\n",
        "model.add(layers.Bidirectional(\n",
        "    layers.LSTM(32,dropout=0.2,recurrent_dropout=0.2,return_sequences=True)))\n",
        "model.add(layers.Bidirectional(layers.LSTM(16)))\n",
        "model.add(layers.Dense(1))\n",
        "\n",
        "model.compile(optimizer='adam', loss='mae', metrics='mape')\n",
        "history = model.fit(X_train, y_train,\n",
        "                    epochs=10,\n",
        "                    steps_per_epoch = 64,\n",
        "                    batch_size=batch_size,\n",
        "                   validation_data=(X_test,y_test))\n",
        "keras.backend.clear_session()\n",
        "del model"
      ],
      "metadata": {
        "id": "sdrxA-n10N-D",
        "colab": {
          "base_uri": "https://localhost:8080/"
        },
        "outputId": "ba8e67b3-b202-4640-f92b-e53a8594563c"
      },
      "execution_count": 9,
      "outputs": [
        {
          "output_type": "stream",
          "name": "stdout",
          "text": [
            "Epoch 1/10\n",
            "64/64 [==============================] - 36s 390ms/step - loss: 1.5996 - mape: 54.7178 - val_loss: 0.8863 - val_mape: 44.9651\n",
            "Epoch 2/10\n",
            "64/64 [==============================] - 22s 344ms/step - loss: 0.8291 - mape: 42.2336 - val_loss: 0.8848 - val_mape: 44.6783\n",
            "Epoch 3/10\n",
            "64/64 [==============================] - 32s 500ms/step - loss: 0.8916 - mape: 47.8006 - val_loss: 0.8636 - val_mape: 44.8534\n",
            "Epoch 4/10\n",
            "64/64 [==============================] - 32s 503ms/step - loss: 0.8252 - mape: 41.7292 - val_loss: 0.8312 - val_mape: 40.0865\n",
            "Epoch 5/10\n",
            "64/64 [==============================] - 32s 505ms/step - loss: 0.8032 - mape: 39.4059 - val_loss: 0.7617 - val_mape: 39.6938\n",
            "Epoch 6/10\n",
            "64/64 [==============================] - 23s 362ms/step - loss: 0.7828 - mape: 36.4769 - val_loss: 0.8270 - val_mape: 41.1082\n",
            "Epoch 7/10\n",
            "64/64 [==============================] - 24s 373ms/step - loss: 0.7101 - mape: 35.9080 - val_loss: 0.6563 - val_mape: 29.7308\n",
            "Epoch 8/10\n",
            "64/64 [==============================] - 22s 340ms/step - loss: 0.6325 - mape: 29.1400 - val_loss: 0.6594 - val_mape: 31.6856\n",
            "Epoch 9/10\n",
            "64/64 [==============================] - 23s 369ms/step - loss: 0.7210 - mape: 28.8784 - val_loss: 0.6708 - val_mape: 26.2304\n",
            "Epoch 10/10\n",
            "64/64 [==============================] - 22s 345ms/step - loss: 0.6551 - mape: 28.7013 - val_loss: 0.6000 - val_mape: 28.3628\n"
          ]
        }
      ]
    }
  ]
}