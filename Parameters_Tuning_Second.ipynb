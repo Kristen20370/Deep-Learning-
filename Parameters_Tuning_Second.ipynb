{
  "nbformat": 4,
  "nbformat_minor": 0,
  "metadata": {
    "colab": {
      "provenance": []
    },
    "kernelspec": {
      "name": "python3",
      "display_name": "Python 3"
    },
    "language_info": {
      "name": "python"
    }
  },
  "cells": [
    {
      "cell_type": "markdown",
      "source": [
        "# Second set of parameters\n",
        "\n",
        "**maxlen = 100,\n",
        "batch size = 16,\n",
        "epochs = 10,\n",
        "steps per epoch = 128,\n",
        "embedding dimension = 64**"
      ],
      "metadata": {
        "id": "QrFqcK5r93JM"
      }
    },
    {
      "cell_type": "code",
      "execution_count": 1,
      "metadata": {
        "colab": {
          "base_uri": "https://localhost:8080/"
        },
        "id": "r-dSxNB_S64m",
        "outputId": "7c076d42-58d4-4615-c599-28407287df82"
      },
      "outputs": [
        {
          "output_type": "stream",
          "name": "stdout",
          "text": [
            "Mounted at /content/drive\n"
          ]
        }
      ],
      "source": [
        "from google.colab import drive\n",
        "drive.mount('/content/drive')"
      ]
    },
    {
      "cell_type": "code",
      "source": [
        "import pandas as pd\n",
        "import numpy as np\n",
        "import matplotlib.pyplot as plt\n",
        "import keras\n",
        "\n",
        "df=pd.read_csv(\"/content/drive/MyDrive/Colab Notebooks/SU23 Deep Learning/Final Project/Yelp Restaurant Reviews.csv\",index_col=0)\n",
        "df=df.loc[:,[\"Review Text\",\"Rating\"]].dropna().reset_index(drop=True)"
      ],
      "metadata": {
        "id": "mY3Ksu2Xw_TV"
      },
      "execution_count": 2,
      "outputs": []
    },
    {
      "cell_type": "code",
      "source": [
        "from sklearn.model_selection import train_test_split\n",
        "rev=df[\"Review Text\"]\n",
        "target=df[\"Rating\"]\n",
        "x_train, x_test, y_train, y_test = train_test_split(rev,target,test_size=0.2,random_state=0,stratify=target)"
      ],
      "metadata": {
        "id": "RcxyAyqM0lgX"
      },
      "execution_count": 3,
      "outputs": []
    },
    {
      "cell_type": "code",
      "source": [
        "from tensorflow.keras.preprocessing.sequence import pad_sequences\n",
        "from tensorflow.keras.preprocessing.text import Tokenizer\n",
        "\n",
        "#Text sampling\n",
        "max_features = 10000\n",
        "maxlen = 100\n",
        "batch_size = 16\n",
        "\n",
        "#Tokenizing\n",
        "tokenizer=Tokenizer(max_features,oov_token=\"<OOV>\")\n",
        "tokenizer.fit_on_texts(x_train)\n",
        "X_train=tokenizer.texts_to_sequences(x_train)\n",
        "X_test=tokenizer.texts_to_sequences(x_test)\n",
        "print(len(X_train), 'train sequences')\n",
        "print(len(X_test), 'test sequences')\n",
        "\n",
        "#Turns tockenized texts into padded sequences\n",
        "print('Pad sequences (samples x text length)')\n",
        "X_train = pad_sequences(X_train, maxlen=maxlen)\n",
        "X_test = pad_sequences(X_test, maxlen=maxlen)\n",
        "print('X_train shape:', X_train.shape)\n",
        "print('X_test shape:', X_test.shape)"
      ],
      "metadata": {
        "colab": {
          "base_uri": "https://localhost:8080/"
        },
        "id": "lh6y7l2o3zWA",
        "outputId": "228e9583-d001-44eb-ecc0-d1774853ab90"
      },
      "execution_count": 4,
      "outputs": [
        {
          "output_type": "stream",
          "name": "stdout",
          "text": [
            "15916 train sequences\n",
            "3980 test sequences\n",
            "Pad sequences (samples x text length)\n",
            "X_train shape: (15916, 100)\n",
            "X_test shape: (3980, 100)\n"
          ]
        }
      ]
    },
    {
      "cell_type": "markdown",
      "source": [
        "# SimpleRNN"
      ],
      "metadata": {
        "id": "csUM3NkP9NT4"
      }
    },
    {
      "cell_type": "code",
      "source": [
        "from keras.models import Sequential\n",
        "from keras.layers import Embedding, SimpleRNN, Dense\n",
        "\n",
        "model = Sequential()\n",
        "embedding_dim = 64\n",
        "model.add(Embedding(max_features, embedding_dim, input_length=maxlen))\n",
        "model.add(SimpleRNN(64, return_sequences=True))\n",
        "model.add(SimpleRNN(32, return_sequences=True))\n",
        "model.add(SimpleRNN(16))\n",
        "model.add(Dense(1))\n",
        "\n",
        "model.compile(optimizer='adam', loss='mae', metrics='mape') #mape: Mean Absolute Percentage Error\n",
        "history = model.fit(X_train, y_train,\n",
        "                    epochs=10,\n",
        "                    steps_per_epoch = 128,\n",
        "                    batch_size=batch_size,\n",
        "                   validation_data=(X_test,y_test))\n",
        "\n",
        "keras.backend.clear_session()\n",
        "del model"
      ],
      "metadata": {
        "colab": {
          "base_uri": "https://localhost:8080/"
        },
        "id": "xprYia1C6FMQ",
        "outputId": "2d8554fa-9d08-4567-ace8-91f298089ade"
      },
      "execution_count": 5,
      "outputs": [
        {
          "output_type": "stream",
          "name": "stdout",
          "text": [
            "Epoch 1/10\n",
            "128/128 [==============================] - 20s 129ms/step - loss: 1.4757 - mape: 44.9766 - val_loss: 0.9472 - val_mape: 40.3913\n",
            "Epoch 2/10\n",
            "128/128 [==============================] - 17s 131ms/step - loss: 0.9050 - mape: 40.7590 - val_loss: 0.8949 - val_mape: 44.5341\n",
            "Epoch 3/10\n",
            "128/128 [==============================] - 21s 167ms/step - loss: 0.8962 - mape: 47.4949 - val_loss: 0.8700 - val_mape: 46.5009\n",
            "Epoch 4/10\n",
            "128/128 [==============================] - 17s 131ms/step - loss: 0.8696 - mape: 45.5528 - val_loss: 0.8703 - val_mape: 46.4757\n",
            "Epoch 5/10\n",
            "128/128 [==============================] - 14s 112ms/step - loss: 0.8826 - mape: 47.7234 - val_loss: 0.8697 - val_mape: 46.5234\n",
            "Epoch 6/10\n",
            "128/128 [==============================] - 16s 126ms/step - loss: 0.8541 - mape: 47.0403 - val_loss: 0.8691 - val_mape: 46.5702\n",
            "Epoch 7/10\n",
            "128/128 [==============================] - 16s 126ms/step - loss: 0.8391 - mape: 45.1680 - val_loss: 0.8693 - val_mape: 46.5589\n",
            "Epoch 8/10\n",
            "128/128 [==============================] - 14s 113ms/step - loss: 0.8809 - mape: 47.4673 - val_loss: 0.8707 - val_mape: 46.4450\n",
            "Epoch 9/10\n",
            "128/128 [==============================] - 15s 116ms/step - loss: 0.8831 - mape: 46.6103 - val_loss: 0.8705 - val_mape: 46.4638\n",
            "Epoch 10/10\n",
            "128/128 [==============================] - 14s 113ms/step - loss: 0.8641 - mape: 45.5669 - val_loss: 0.8696 - val_mape: 46.5340\n"
          ]
        }
      ]
    },
    {
      "cell_type": "markdown",
      "source": [
        "# Pure CNN with word Embedding"
      ],
      "metadata": {
        "id": "RgGzs9v29Slz"
      }
    },
    {
      "cell_type": "code",
      "source": [
        "from keras.models import Sequential\n",
        "from keras.layers import Embedding\n",
        "from keras import layers\n",
        "\n",
        "model = Sequential()\n",
        "embedding_dim = 64\n",
        "model.add(Embedding(max_features, embedding_dim, input_length=maxlen))\n",
        "model.add(layers.Conv1D(64, 5, activation='relu'))\n",
        "model.add(layers.MaxPooling1D(3))\n",
        "model.add(layers.Conv1D(32, 5, activation='relu'))\n",
        "model.add(layers.GlobalMaxPooling1D())\n",
        "model.add(layers.Dense(1))\n",
        "\n",
        "model.compile(optimizer='adam', loss='mae', metrics='mape') #mape: Mean Absolute Percentage Error\n",
        "history = model.fit(X_train, y_train,\n",
        "                    epochs=10,\n",
        "                    steps_per_epoch = 128,\n",
        "                    batch_size=batch_size,\n",
        "                   validation_data=(X_test,y_test))\n",
        "\n",
        "keras.backend.clear_session()\n",
        "del model"
      ],
      "metadata": {
        "colab": {
          "base_uri": "https://localhost:8080/"
        },
        "id": "5CHgQg7M98Gb",
        "outputId": "55d33d1c-39bd-43ea-d416-f0f18a3532cb"
      },
      "execution_count": 6,
      "outputs": [
        {
          "output_type": "stream",
          "name": "stdout",
          "text": [
            "Epoch 1/10\n",
            "128/128 [==============================] - 4s 25ms/step - loss: 1.2619 - mape: 46.9336 - val_loss: 0.8255 - val_mape: 36.1013\n",
            "Epoch 2/10\n",
            "128/128 [==============================] - 4s 28ms/step - loss: 0.7539 - mape: 33.7914 - val_loss: 0.7759 - val_mape: 36.8095\n",
            "Epoch 3/10\n",
            "128/128 [==============================] - 4s 31ms/step - loss: 0.7783 - mape: 34.9498 - val_loss: 0.8219 - val_mape: 31.6060\n",
            "Epoch 4/10\n",
            "128/128 [==============================] - 4s 35ms/step - loss: 0.7457 - mape: 32.1755 - val_loss: 0.7272 - val_mape: 33.2378\n",
            "Epoch 5/10\n",
            "128/128 [==============================] - 3s 24ms/step - loss: 0.7286 - mape: 31.9730 - val_loss: 0.7196 - val_mape: 31.5013\n",
            "Epoch 6/10\n",
            "128/128 [==============================] - 4s 29ms/step - loss: 0.7164 - mape: 30.4673 - val_loss: 0.7066 - val_mape: 30.7491\n",
            "Epoch 7/10\n",
            "128/128 [==============================] - 4s 34ms/step - loss: 0.7263 - mape: 32.8871 - val_loss: 0.7061 - val_mape: 29.5009\n",
            "Epoch 8/10\n",
            "128/128 [==============================] - 4s 32ms/step - loss: 0.7048 - mape: 30.4880 - val_loss: 0.7097 - val_mape: 30.9729\n",
            "Epoch 9/10\n",
            "128/128 [==============================] - 3s 24ms/step - loss: 0.6008 - mape: 24.8919 - val_loss: 0.6348 - val_mape: 25.7132\n",
            "Epoch 10/10\n",
            "128/128 [==============================] - 3s 24ms/step - loss: 0.5643 - mape: 23.5196 - val_loss: 0.6312 - val_mape: 23.2908\n"
          ]
        }
      ]
    },
    {
      "cell_type": "markdown",
      "source": [
        "# Pure LSTM with Word Embedding"
      ],
      "metadata": {
        "id": "wfWwP5Cn9bKu"
      }
    },
    {
      "cell_type": "code",
      "source": [
        "from keras.models import Sequential\n",
        "from keras.layers import Embedding\n",
        "from keras import layers\n",
        "\n",
        "model = Sequential()\n",
        "embedding_dim = 64\n",
        "model.add(Embedding(max_features, embedding_dim, input_length=maxlen))\n",
        "model.add(layers.LSTM(32,dropout=0.2,recurrent_dropout=0.2,return_sequences=True))\n",
        "model.add(layers.LSTM(16))\n",
        "model.add(layers.Dense(1))\n",
        "model.compile(optimizer='adam', loss='mae', metrics='mape')\n",
        "history = model.fit(X_train, y_train,\n",
        "                    epochs=10,\n",
        "                    steps_per_epoch = 128,\n",
        "                    batch_size=batch_size,\n",
        "                    validation_data=(X_test,y_test))\n",
        "keras.backend.clear_session()\n",
        "del model"
      ],
      "metadata": {
        "colab": {
          "base_uri": "https://localhost:8080/"
        },
        "id": "Ws9FPgb2auW8",
        "outputId": "142f4603-e408-48d4-93cf-08d41ea5369c"
      },
      "execution_count": 7,
      "outputs": [
        {
          "output_type": "stream",
          "name": "stdout",
          "text": [
            "Epoch 1/10\n",
            "128/128 [==============================] - 41s 272ms/step - loss: 1.3490 - mape: 51.9830 - val_loss: 0.8800 - val_mape: 45.5841\n",
            "Epoch 2/10\n",
            "128/128 [==============================] - 31s 244ms/step - loss: 0.8904 - mape: 44.0250 - val_loss: 0.8682 - val_mape: 46.3033\n",
            "Epoch 3/10\n",
            "128/128 [==============================] - 32s 251ms/step - loss: 0.8648 - mape: 44.8720 - val_loss: 0.8665 - val_mape: 45.9601\n",
            "Epoch 4/10\n",
            "128/128 [==============================] - 33s 262ms/step - loss: 0.8785 - mape: 47.0805 - val_loss: 0.8502 - val_mape: 44.9482\n",
            "Epoch 5/10\n",
            "128/128 [==============================] - 31s 244ms/step - loss: 0.7533 - mape: 37.0548 - val_loss: 0.6189 - val_mape: 29.1306\n",
            "Epoch 6/10\n",
            "128/128 [==============================] - 35s 273ms/step - loss: 0.6486 - mape: 28.6944 - val_loss: 0.6074 - val_mape: 29.3928\n",
            "Epoch 7/10\n",
            "128/128 [==============================] - 33s 261ms/step - loss: 0.6030 - mape: 25.7103 - val_loss: 0.5915 - val_mape: 25.9186\n",
            "Epoch 8/10\n",
            "128/128 [==============================] - 31s 244ms/step - loss: 0.5923 - mape: 27.4512 - val_loss: 0.5637 - val_mape: 26.0890\n",
            "Epoch 9/10\n",
            "128/128 [==============================] - 35s 278ms/step - loss: 0.5446 - mape: 23.9780 - val_loss: 0.5710 - val_mape: 27.4201\n",
            "Epoch 10/10\n",
            "128/128 [==============================] - 34s 267ms/step - loss: 0.4717 - mape: 19.3950 - val_loss: 0.5475 - val_mape: 25.4940\n"
          ]
        }
      ]
    },
    {
      "cell_type": "markdown",
      "source": [
        "# Combine CNN and LSTM with Word Embedding"
      ],
      "metadata": {
        "id": "27JWrvNc9jHr"
      }
    },
    {
      "cell_type": "code",
      "source": [
        "from keras.models import Sequential\n",
        "from keras.layers import Embedding, LSTM, Conv1D, MaxPooling1D\n",
        "from keras.layers import Dense\n",
        "\n",
        "model = Sequential()\n",
        "embedding_dim = 64\n",
        "model.add(Embedding(max_features, embedding_dim, input_length=maxlen))\n",
        "model.add(layers.Conv1D(64, 5, activation='relu'))\n",
        "model.add(layers.MaxPooling1D(3))\n",
        "model.add(layers.Conv1D(32, 5, activation='relu'))\n",
        "model.add(layers.LSTM(32,dropout=0.2,recurrent_dropout=0.2,return_sequences=True))\n",
        "model.add(layers.LSTM(16))\n",
        "model.add(layers.Dense(1))\n",
        "\n",
        "model.compile(optimizer='adam', loss='mae', metrics='mape')\n",
        "history = model.fit(X_train, y_train,\n",
        "                    epochs=10,\n",
        "                    steps_per_epoch = 128,\n",
        "                    batch_size=batch_size,\n",
        "                   validation_data=(X_test,y_test))\n",
        "keras.backend.clear_session()\n",
        "del model"
      ],
      "metadata": {
        "colab": {
          "base_uri": "https://localhost:8080/"
        },
        "id": "fvW9qASiep7o",
        "outputId": "a805855e-711e-4d89-8407-c5320421223b"
      },
      "execution_count": 8,
      "outputs": [
        {
          "output_type": "stream",
          "name": "stdout",
          "text": [
            "Epoch 1/10\n",
            "128/128 [==============================] - 21s 111ms/step - loss: 1.3938 - mape: 50.2889 - val_loss: 0.8683 - val_mape: 46.3416\n",
            "Epoch 2/10\n",
            "128/128 [==============================] - 12s 93ms/step - loss: 0.8713 - mape: 44.8321 - val_loss: 0.8553 - val_mape: 45.0405\n",
            "Epoch 3/10\n",
            "128/128 [==============================] - 11s 87ms/step - loss: 0.7731 - mape: 38.2155 - val_loss: 0.7453 - val_mape: 39.2491\n",
            "Epoch 4/10\n",
            "128/128 [==============================] - 12s 95ms/step - loss: 0.6461 - mape: 30.5566 - val_loss: 0.6624 - val_mape: 24.1382\n",
            "Epoch 5/10\n",
            "128/128 [==============================] - 12s 96ms/step - loss: 0.5970 - mape: 26.7755 - val_loss: 0.5454 - val_mape: 24.2114\n",
            "Epoch 6/10\n",
            "128/128 [==============================] - 12s 96ms/step - loss: 0.5779 - mape: 25.2158 - val_loss: 0.6415 - val_mape: 32.1354\n",
            "Epoch 7/10\n",
            "128/128 [==============================] - 14s 112ms/step - loss: 0.5335 - mape: 22.7657 - val_loss: 0.5222 - val_mape: 22.9019\n",
            "Epoch 8/10\n",
            "128/128 [==============================] - 14s 110ms/step - loss: 0.5417 - mape: 23.5972 - val_loss: 0.5173 - val_mape: 22.8822\n",
            "Epoch 9/10\n",
            "128/128 [==============================] - 14s 110ms/step - loss: 0.4673 - mape: 19.2383 - val_loss: 0.5090 - val_mape: 21.5659\n",
            "Epoch 10/10\n",
            "128/128 [==============================] - 14s 108ms/step - loss: 0.4688 - mape: 19.6038 - val_loss: 0.4998 - val_mape: 21.5325\n"
          ]
        }
      ]
    },
    {
      "cell_type": "markdown",
      "source": [
        "# Combine CNN with Bidirectional LSTM"
      ],
      "metadata": {
        "id": "QIY4RYXN9q1w"
      }
    },
    {
      "cell_type": "code",
      "source": [
        "from keras.models import Sequential\n",
        "from keras.layers import Embedding, LSTM, Conv1D, MaxPooling1D\n",
        "from keras.layers import Dense\n",
        "\n",
        "model = Sequential()\n",
        "embedding_dim = 64\n",
        "model.add(Embedding(max_features, embedding_dim, input_length=maxlen))\n",
        "model.add(layers.Conv1D(64, 5, activation='relu'))\n",
        "model.add(layers.MaxPooling1D(3))\n",
        "model.add(layers.Conv1D(32, 5, activation='relu'))\n",
        "model.add(layers.Bidirectional(\n",
        "    layers.LSTM(32,dropout=0.2,recurrent_dropout=0.2,return_sequences=True)))\n",
        "model.add(layers.Bidirectional(layers.LSTM(16)))\n",
        "model.add(layers.Dense(1))\n",
        "\n",
        "model.compile(optimizer='adam', loss='mae', metrics='mape')\n",
        "history = model.fit(X_train, y_train,\n",
        "                    epochs=10,\n",
        "                    steps_per_epoch = 128,\n",
        "                    batch_size=batch_size,\n",
        "                   validation_data=(X_test,y_test))\n",
        "keras.backend.clear_session()\n",
        "del model"
      ],
      "metadata": {
        "colab": {
          "base_uri": "https://localhost:8080/"
        },
        "id": "sdrxA-n10N-D",
        "outputId": "f6284856-dab1-4221-eb1e-05a601a080f6"
      },
      "execution_count": 9,
      "outputs": [
        {
          "output_type": "stream",
          "name": "stdout",
          "text": [
            "Epoch 1/10\n",
            "128/128 [==============================] - 33s 167ms/step - loss: 1.1782 - mape: 47.8325 - val_loss: 0.8542 - val_mape: 44.7311\n",
            "Epoch 2/10\n",
            "128/128 [==============================] - 20s 156ms/step - loss: 0.8280 - mape: 44.1737 - val_loss: 0.7009 - val_mape: 32.1299\n",
            "Epoch 3/10\n",
            "128/128 [==============================] - 19s 146ms/step - loss: 0.6677 - mape: 30.8299 - val_loss: 0.6596 - val_mape: 27.9900\n",
            "Epoch 4/10\n",
            "128/128 [==============================] - 19s 148ms/step - loss: 0.6097 - mape: 27.0490 - val_loss: 0.6102 - val_mape: 28.0182\n",
            "Epoch 5/10\n",
            "128/128 [==============================] - 25s 195ms/step - loss: 0.5684 - mape: 24.7889 - val_loss: 0.5577 - val_mape: 23.8703\n",
            "Epoch 6/10\n",
            "128/128 [==============================] - 20s 156ms/step - loss: 0.5453 - mape: 23.2742 - val_loss: 0.5418 - val_mape: 22.7847\n",
            "Epoch 7/10\n",
            "128/128 [==============================] - 19s 152ms/step - loss: 0.5352 - mape: 22.7262 - val_loss: 0.5808 - val_mape: 20.8410\n",
            "Epoch 8/10\n",
            "128/128 [==============================] - 19s 148ms/step - loss: 0.5121 - mape: 21.3274 - val_loss: 0.5313 - val_mape: 21.5002\n",
            "Epoch 9/10\n",
            "128/128 [==============================] - 20s 158ms/step - loss: 0.4642 - mape: 19.0202 - val_loss: 0.4999 - val_mape: 21.6047\n",
            "Epoch 10/10\n",
            "128/128 [==============================] - 20s 159ms/step - loss: 0.4660 - mape: 19.5296 - val_loss: 0.5142 - val_mape: 22.9922\n"
          ]
        }
      ]
    }
  ]
}