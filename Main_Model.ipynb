{
 "cells": [
  {
   "cell_type": "markdown",
   "metadata": {
    "id": "YSBOZEXUUEtW"
   },
   "source": [
    "### Business Problem\n",
    "\n"
   ]
  },
  {
   "cell_type": "code",
   "execution_count": 3,
   "metadata": {
    "colab": {
     "base_uri": "https://localhost:8080/"
    },
    "id": "r-dSxNB_S64m",
    "outputId": "f1e9a732-cb33-44f2-e661-420f5ab8e344"
   },
   "outputs": [
    {
     "name": "stdout",
     "output_type": "stream",
     "text": [
      "Mounted at /content/drive\n"
     ]
    }
   ],
   "source": [
    "from google.colab import drive\n",
    "drive.mount('/content/drive')"
   ]
  },
  {
   "cell_type": "markdown",
   "metadata": {
    "id": "xLrumLu7xa-l"
   },
   "source": [
    "# Data Preprocessing\n",
    "\n",
    "Read the data into dataframe and only keep two columns, the review text and the rating columns. Remove any reviews with no rating and rating with no review text from the dataframe."
   ]
  },
  {
   "cell_type": "code",
   "execution_count": 4,
   "metadata": {
    "id": "mY3Ksu2Xw_TV"
   },
   "outputs": [],
   "source": [
    "import pandas as pd\n",
    "import numpy as np\n",
    "import matplotlib.pyplot as plt\n",
    "import keras\n",
    "\n",
    "df=pd.read_csv(\"/content/drive/MyDrive/Colab Notebooks/SU23 Deep Learning/Final Project/Yelp Restaurant Reviews.csv\",index_col=0)\n",
    "df=df.loc[:,[\"Review Text\",\"Rating\"]].dropna().reset_index(drop=True)"
   ]
  },
  {
   "cell_type": "code",
   "execution_count": null,
   "metadata": {
    "colab": {
     "base_uri": "https://localhost:8080/"
    },
    "id": "dI02JbMOxrx5",
    "outputId": "e4b7b403-df93-474a-91e7-c44c25f20c1e"
   },
   "outputs": [
    {
     "data": {
      "text/plain": [
       "19896"
      ]
     },
     "execution_count": 3,
     "metadata": {},
     "output_type": "execute_result"
    }
   ],
   "source": [
    "#The number of reviews after clearning data\n",
    "len(df)"
   ]
  },
  {
   "cell_type": "code",
   "execution_count": null,
   "metadata": {
    "colab": {
     "base_uri": "https://localhost:8080/"
    },
    "id": "ah-mN5_fx2_H",
    "outputId": "e94abca6-22fa-48fb-ddf9-1aca7b87a786"
   },
   "outputs": [
    {
     "data": {
      "text/plain": [
       "5    10883\n",
       "4     4447\n",
       "3     2069\n",
       "2     1280\n",
       "1     1217\n",
       "Name: Rating, dtype: int64"
      ]
     },
     "execution_count": 4,
     "metadata": {},
     "output_type": "execute_result"
    }
   ],
   "source": [
    "#Look at the distribution of reviews in rating classes\n",
    "df[\"Rating\"].value_counts()"
   ]
  },
  {
   "cell_type": "markdown",
   "metadata": {
    "id": "V-1X74nvyHoV"
   },
   "source": [
    "We have an uneven distribution of ratings because about 55% of the reviews rated 5. This happens may because happy customers are more willing to leave their comments for the restaurant. Therefore, in order to improve the respresenting power of other subgroups, who leaves lower ratings, we can do a stratified sampling. The stratified sampling technique would help us to ensure the distribution of classes in the dataset is preserved in the sample that I used for training the model."
   ]
  },
  {
   "cell_type": "markdown",
   "metadata": {
    "id": "3y74qusa0UN_"
   },
   "source": [
    "# Prepare training and validation data\n",
    "\n",
    "Build a model with 80% training dataset for model training and 20% validation dataset for model assessment.\n",
    "\n",
    "I used the review text as predictor and the ratings as responses to my model."
   ]
  },
  {
   "cell_type": "code",
   "execution_count": null,
   "metadata": {
    "id": "RcxyAyqM0lgX"
   },
   "outputs": [],
   "source": [
    "from sklearn.model_selection import train_test_split\n",
    "rev=df[\"Review Text\"]\n",
    "target=df[\"Rating\"]\n",
    "x_train, x_test, y_train, y_test = train_test_split(rev,target,test_size=0.2,random_state=0,stratify=target)"
   ]
  },
  {
   "cell_type": "markdown",
   "metadata": {
    "id": "1igYTE3C1qcj"
   },
   "source": [
    "**Assumption:**\n",
    "Treat rating as a continuous variable."
   ]
  },
  {
   "cell_type": "markdown",
   "metadata": {
    "id": "GgxZ20Wh2HsH"
   },
   "source": [
    "Calculate the mean absolute percent error by using the average rating of the test dataset."
   ]
  },
  {
   "cell_type": "code",
   "execution_count": null,
   "metadata": {
    "colab": {
     "base_uri": "https://localhost:8080/"
    },
    "id": "l9Pt8qr-158t",
    "outputId": "477a360c-15cc-440d-9459-9154f584d9ad"
   },
   "outputs": [
    {
     "name": "stdout",
     "output_type": "stream",
     "text": [
      "0.9504893815812724\n"
     ]
    }
   ],
   "source": [
    "average_rating=y_test.mean()\n",
    "mae=0\n",
    "for rating in y_test:\n",
    "    mae+=abs(rating-average_rating)\n",
    "\n",
    "print(mae/len(y_test))"
   ]
  },
  {
   "cell_type": "markdown",
   "metadata": {
    "id": "pl4fUONE2oBr"
   },
   "source": [
    "# Feature Extraction and Tokenization with padding\n",
    "\n",
    "Decide the number of words to consider as features, the maximum sequence length of words to select from each sentence, and the number of rows of input for each step in each epoch.\n",
    "\n",
    "To let the model understand the process the text data, we break down the sentence into individual units by tokenization."
   ]
  },
  {
   "cell_type": "code",
   "execution_count": null,
   "metadata": {
    "colab": {
     "base_uri": "https://localhost:8080/"
    },
    "id": "lh6y7l2o3zWA",
    "outputId": "b03ea11d-51a6-486f-e0bf-421b088acbe1"
   },
   "outputs": [
    {
     "name": "stdout",
     "output_type": "stream",
     "text": [
      "15916 train sequences\n",
      "3980 test sequences\n",
      "Pad sequences (samples x text length)\n",
      "X_train shape: (15916, 50)\n",
      "X_test shape: (3980, 50)\n"
     ]
    }
   ],
   "source": [
    "from tensorflow.keras.preprocessing.sequence import pad_sequences\n",
    "from tensorflow.keras.preprocessing.text import Tokenizer\n",
    "\n",
    "#Text sampling\n",
    "max_features = 10000\n",
    "maxlen = 50\n",
    "batch_size = 32\n",
    "\n",
    "#Tokenizing\n",
    "tokenizer=Tokenizer(max_features,oov_token=\"<OOV>\")\n",
    "tokenizer.fit_on_texts(x_train)\n",
    "X_train=tokenizer.texts_to_sequences(x_train)\n",
    "X_test=tokenizer.texts_to_sequences(x_test)\n",
    "print(len(X_train), 'train sequences')\n",
    "print(len(X_test), 'test sequences')\n",
    "\n",
    "#Turns tockenized texts into padded sequences\n",
    "print('Pad sequences (samples x text length)')\n",
    "X_train = pad_sequences(X_train, maxlen=maxlen)\n",
    "X_test = pad_sequences(X_test, maxlen=maxlen)\n",
    "print('X_train shape:', X_train.shape)\n",
    "print('X_test shape:', X_test.shape)"
   ]
  },
  {
   "cell_type": "markdown",
   "metadata": {
    "id": "_uwmsr7y4cnR"
   },
   "source": [
    "# Build original model with SimpleRNN\n",
    "\n",
    "Because the words in review text have strong dependence on each other regarding the word sequence, the use of word embeddings is crucial to capture the semantic relationships between words. Word embedding enable machine learning models to understand the meaning of words and their context, which is essential for natrual language processing (NLP).\n",
    "\n",
    "Since the Simple Recurrent Neural Network (SimpleRNN) provides a relatively straightforward architecture to process sequential data, I used three hidden layers of SimpleRNN to build my original prediction model. Then improve my model based on the result."
   ]
  },
  {
   "cell_type": "code",
   "execution_count": null,
   "metadata": {
    "colab": {
     "base_uri": "https://localhost:8080/"
    },
    "id": "xprYia1C6FMQ",
    "outputId": "ac76283c-c083-4bc1-8fbf-cbbcdcf0b289"
   },
   "outputs": [
    {
     "name": "stdout",
     "output_type": "stream",
     "text": [
      "Epoch 1/10\n",
      "256/256 [==============================] - 23s 63ms/step - loss: 1.0153 - mape: 47.0323 - val_loss: 0.8705 - val_mape: 46.5307\n",
      "Epoch 2/10\n",
      "256/256 [==============================] - 14s 55ms/step - loss: 0.8600 - mape: 45.3727 - val_loss: 0.8690 - val_mape: 46.4597\n",
      "Epoch 3/10\n",
      "256/256 [==============================] - 15s 57ms/step - loss: 0.8416 - mape: 41.6646 - val_loss: 1.1647 - val_mape: 48.1261\n",
      "Epoch 4/10\n",
      "256/256 [==============================] - 14s 54ms/step - loss: 0.8431 - mape: 39.9483 - val_loss: 0.8712 - val_mape: 39.0410\n",
      "Epoch 5/10\n",
      "256/256 [==============================] - 15s 60ms/step - loss: 0.6424 - mape: 31.5730 - val_loss: 0.7870 - val_mape: 37.7758\n",
      "Epoch 6/10\n",
      "256/256 [==============================] - 15s 57ms/step - loss: 0.5931 - mape: 27.7309 - val_loss: 0.7820 - val_mape: 35.0102\n",
      "Epoch 7/10\n",
      "256/256 [==============================] - 14s 55ms/step - loss: 0.4627 - mape: 20.9376 - val_loss: 0.6714 - val_mape: 30.2216\n",
      "Epoch 8/10\n",
      "256/256 [==============================] - 16s 62ms/step - loss: 0.4451 - mape: 19.8934 - val_loss: 0.6999 - val_mape: 28.3564\n",
      "Epoch 9/10\n",
      "256/256 [==============================] - 16s 64ms/step - loss: 0.3706 - mape: 16.0943 - val_loss: 0.7177 - val_mape: 31.5834\n",
      "Epoch 10/10\n",
      "256/256 [==============================] - 14s 56ms/step - loss: 0.3705 - mape: 16.1669 - val_loss: 0.6701 - val_mape: 28.9972\n"
     ]
    }
   ],
   "source": [
    "from keras.models import Sequential\n",
    "from keras.layers import Embedding, SimpleRNN, Dense\n",
    "\n",
    "model = Sequential()\n",
    "embedding_dim = 64\n",
    "model.add(Embedding(max_features, embedding_dim, input_length=maxlen))\n",
    "model.add(SimpleRNN(64, return_sequences=True))\n",
    "model.add(SimpleRNN(32, return_sequences=True))\n",
    "model.add(SimpleRNN(16))\n",
    "model.add(Dense(1))\n",
    "\n",
    "model.compile(optimizer='adam', loss='mae', metrics='mape') #mape: Mean Absolute Percentage Error\n",
    "history = model.fit(X_train, y_train,\n",
    "                    epochs=10,\n",
    "                    steps_per_epoch = 256,\n",
    "                    batch_size=batch_size,\n",
    "                   validation_data=(X_test,y_test))\n",
    "\n",
    "keras.backend.clear_session()\n",
    "del model"
   ]
  },
  {
   "cell_type": "code",
   "execution_count": null,
   "metadata": {
    "colab": {
     "base_uri": "https://localhost:8080/",
     "height": 452
    },
    "id": "ifYkfJkL8q62",
    "outputId": "fbaad077-ee80-46b1-bebc-f47f436ba885"
   },
   "outputs": [
    {
     "data": {
      "image/png": "[encoded data removed]",
      "text/plain": [
       "<Figure size 640x480 with 1 Axes>"
      ]
     },
     "metadata": {},
     "output_type": "display_data"
    }
   ],
   "source": [
    "import matplotlib.pyplot as plt\n",
    "\n",
    "mape = history.history['mape']\n",
    "val_mape = history.history['val_mape']\n",
    "loss = history.history['loss']\n",
    "val_loss = history.history['val_loss']\n",
    "\n",
    "epochs = range(len(loss))\n",
    "\n",
    "plt.plot(epochs, mape, 'r', label='Training mape')\n",
    "plt.plot(epochs, val_mape, 'b', label='Validation mape')\n",
    "plt.title('Training and validation mape')\n",
    "plt.legend()\n",
    "plt.ylim(ymax=100,ymin=0.01)\n",
    "\n",
    "plt.show()"
   ]
  },
  {
   "cell_type": "markdown",
   "metadata": {
    "id": "cIrWMNVa88qn"
   },
   "source": [
    "**Interpret the result:**\n",
    "\n",
    "We have an overfitting problem here because there is a big gap between training and validation mape. The training mape is better than validation mape, but both of them are higher than 15%. Therefore, we want to reduce both of the mapes and close the gap between them to solve the problem."
   ]
  },
  {
   "cell_type": "markdown",
   "metadata": {
    "id": "IxRWsGbr6L1u"
   },
   "source": [
    "SimpleRNN can cause the Vanishing Gradient Problem. Because when gradients (or weights) are propagated backward through multiple time steps, they can become very small. However, SimpleRNN model is still useful for capturing short-term dependencies in sequences where information from recent time is important. Therefore, the model will have difficulty learning long-range dependencies. We need a model that is more powerful to capture long-term dependencies with better feature extraction."
   ]
  },
  {
   "cell_type": "markdown",
   "metadata": {
    "id": "wKFSAuKu9qVU"
   },
   "source": [
    "# Improve model with CNN\n",
    "\n",
    "Using word embeddings and CNN methods for prediction.\n",
    "With everthing else fixed, I replaced the 3 layers of SimpleRNN with convolutional nueral network and maxpooling."
   ]
  },
  {
   "cell_type": "code",
   "execution_count": null,
   "metadata": {
    "colab": {
     "base_uri": "https://localhost:8080/"
    },
    "id": "5CHgQg7M98Gb",
    "outputId": "b05f3294-e72f-4ee4-cabc-c267cf8099d2"
   },
   "outputs": [
    {
     "name": "stdout",
     "output_type": "stream",
     "text": [
      "Epoch 1/10\n",
      "256/256 [==============================] - 7s 22ms/step - loss: 1.0408 - mape: 40.4369 - val_loss: 0.7477 - val_mape: 32.6598\n",
      "Epoch 2/10\n",
      "256/256 [==============================] - 6s 22ms/step - loss: 0.7248 - mape: 32.0222 - val_loss: 0.7201 - val_mape: 32.2993\n",
      "Epoch 3/10\n",
      "256/256 [==============================] - 6s 25ms/step - loss: 0.6334 - mape: 27.4783 - val_loss: 0.7042 - val_mape: 29.6685\n",
      "Epoch 4/10\n",
      "256/256 [==============================] - 5s 19ms/step - loss: 0.6157 - mape: 26.7594 - val_loss: 0.6569 - val_mape: 27.4337\n",
      "Epoch 5/10\n",
      "256/256 [==============================] - 7s 27ms/step - loss: 0.5129 - mape: 20.8982 - val_loss: 0.6545 - val_mape: 28.4638\n",
      "Epoch 6/10\n",
      "256/256 [==============================] - 5s 21ms/step - loss: 0.5065 - mape: 20.4727 - val_loss: 0.6321 - val_mape: 26.5770\n",
      "Epoch 7/10\n",
      "256/256 [==============================] - 6s 24ms/step - loss: 0.4283 - mape: 17.3148 - val_loss: 0.6351 - val_mape: 26.3498\n",
      "Epoch 8/10\n",
      "256/256 [==============================] - 6s 24ms/step - loss: 0.4259 - mape: 16.9456 - val_loss: 0.6267 - val_mape: 25.2351\n",
      "Epoch 9/10\n",
      "256/256 [==============================] - 5s 20ms/step - loss: 0.3794 - mape: 14.7249 - val_loss: 0.6443 - val_mape: 26.5266\n",
      "Epoch 10/10\n",
      "256/256 [==============================] - 7s 28ms/step - loss: 0.3674 - mape: 14.1427 - val_loss: 0.6451 - val_mape: 25.0824\n"
     ]
    }
   ],
   "source": [
    "from keras.models import Sequential\n",
    "from keras.layers import Embedding\n",
    "from keras import layers\n",
    "\n",
    "model = Sequential()\n",
    "embedding_dim = 64\n",
    "model.add(Embedding(max_features, embedding_dim, input_length=maxlen))\n",
    "model.add(layers.Conv1D(64, 5, activation='relu'))\n",
    "model.add(layers.MaxPooling1D(3))\n",
    "model.add(layers.Conv1D(32, 5, activation='relu'))\n",
    "model.add(layers.GlobalMaxPooling1D())\n",
    "model.add(layers.Dense(1))\n",
    "\n",
    "model.compile(optimizer='adam', loss='mae', metrics='mape') #mape: Mean Absolute Percentage Error\n",
    "history = model.fit(X_train, y_train,\n",
    "                    epochs=10,\n",
    "                    steps_per_epoch = 256,\n",
    "                    batch_size=batch_size,\n",
    "                   validation_data=(X_test,y_test))\n",
    "\n",
    "keras.backend.clear_session()\n",
    "del model"
   ]
  },
  {
   "cell_type": "code",
   "execution_count": null,
   "metadata": {
    "colab": {
     "base_uri": "https://localhost:8080/",
     "height": 452
    },
    "id": "8lh3pqW-_P9p",
    "outputId": "2a5b5b20-0434-446c-99d3-bdb225680653"
   },
   "outputs": [
    {
     "data": {
      "image/png": "[encoded data removed]",
      "text/plain": [
       "<Figure size 640x480 with 1 Axes>"
      ]
     },
     "metadata": {},
     "output_type": "display_data"
    }
   ],
   "source": [
    "import matplotlib.pyplot as plt\n",
    "\n",
    "mape = history.history['mape']\n",
    "val_mape = history.history['val_mape']\n",
    "loss = history.history['loss']\n",
    "val_loss = history.history['val_loss']\n",
    "\n",
    "epochs = range(len(loss))\n",
    "\n",
    "plt.plot(epochs, mape, 'r', label='Training mape')\n",
    "plt.plot(epochs, val_mape, 'b', label='Validation mape')\n",
    "plt.title('Training and validation mape')\n",
    "plt.legend()\n",
    "plt.ylim(ymax=100,ymin=0.01)\n",
    "\n",
    "plt.show()"
   ]
  },
  {
   "cell_type": "markdown",
   "metadata": {
    "id": "CQasrVj3_SXO"
   },
   "source": [
    "**Interpret the result:**\n",
    "\n",
    "The training mape is reduced to 14% but the validation mape is still high at 25%. Therefore, combining embedding and CNN method cannot help close the gap between training mape and validation mape.\n",
    "\n",
    "CNNs offer advantages such as automatic feature extraction and transaction invariance. However, they may not be helpful for detecting long-range dependencies or understanding complex sequential relationships in data. For such tasks, recurrent neural networks (RNNs) will be more helpful."
   ]
  },
  {
   "cell_type": "markdown",
   "metadata": {
    "id": "6cuZ3D_saRqi"
   },
   "source": [
    "# Improve model with LSTM\n",
    "Since LSTM method were specifically designed to capture long-range dependencis and relationships within the sequences, I replaced it with the CNNs layer to improve my model.\n",
    "Also, I added dropout and recurrent dropout for the LSTM layer to regularize the model and improve generalization. However, the underfitting problem still exist because the limitation of the sampling data."
   ]
  },
  {
   "cell_type": "code",
   "execution_count": null,
   "metadata": {
    "colab": {
     "base_uri": "https://localhost:8080/"
    },
    "id": "Ws9FPgb2auW8",
    "outputId": "67269025-f252-45ee-bcf7-527e455138b3"
   },
   "outputs": [
    {
     "name": "stdout",
     "output_type": "stream",
     "text": [
      "Epoch 1/10\n",
      "256/256 [==============================] - 38s 125ms/step - loss: 1.1389 - mape: 48.8510 - val_loss: 0.8761 - val_mape: 45.7280\n",
      "Epoch 2/10\n",
      "256/256 [==============================] - 30s 119ms/step - loss: 0.8605 - mape: 45.6042 - val_loss: 0.8411 - val_mape: 42.8500\n",
      "Epoch 3/10\n",
      "256/256 [==============================] - 31s 122ms/step - loss: 0.6355 - mape: 28.8672 - val_loss: 0.5817 - val_mape: 25.2644\n",
      "Epoch 4/10\n",
      "256/256 [==============================] - 31s 122ms/step - loss: 0.5540 - mape: 23.5896 - val_loss: 0.5654 - val_mape: 25.9233\n",
      "Epoch 5/10\n",
      "256/256 [==============================] - 31s 120ms/step - loss: 0.4678 - mape: 18.9460 - val_loss: 0.5409 - val_mape: 24.4384\n",
      "Epoch 6/10\n",
      "256/256 [==============================] - 31s 119ms/step - loss: 0.4527 - mape: 18.4478 - val_loss: 0.5130 - val_mape: 20.1942\n",
      "Epoch 7/10\n",
      "256/256 [==============================] - 31s 119ms/step - loss: 0.4042 - mape: 15.5645 - val_loss: 0.5281 - val_mape: 21.7868\n",
      "Epoch 8/10\n",
      "256/256 [==============================] - 30s 119ms/step - loss: 0.3980 - mape: 15.5320 - val_loss: 0.5153 - val_mape: 22.8867\n",
      "Epoch 9/10\n",
      "256/256 [==============================] - 31s 120ms/step - loss: 0.3605 - mape: 13.5404 - val_loss: 0.5090 - val_mape: 22.0992\n",
      "Epoch 10/10\n",
      "256/256 [==============================] - 30s 119ms/step - loss: 0.3635 - mape: 13.7568 - val_loss: 0.4996 - val_mape: 21.0403\n"
     ]
    }
   ],
   "source": [
    "from keras.models import Sequential\n",
    "from keras.layers import Embedding\n",
    "from keras import layers\n",
    "\n",
    "model = Sequential()\n",
    "embedding_dim = 64\n",
    "model.add(Embedding(max_features, embedding_dim, input_length=maxlen))\n",
    "model.add(layers.LSTM(32,dropout=0.2,recurrent_dropout=0.2,return_sequences=True))\n",
    "model.add(layers.LSTM(16))\n",
    "model.add(layers.Dense(1))\n",
    "model.compile(optimizer='adam', loss='mae', metrics='mape')\n",
    "history = model.fit(X_train, y_train,\n",
    "                    epochs=10,\n",
    "                    steps_per_epoch = 256,\n",
    "                    batch_size=batch_size,\n",
    "                    validation_data=(X_test,y_test))\n",
    "keras.backend.clear_session()\n",
    "del model"
   ]
  },
  {
   "cell_type": "code",
   "execution_count": null,
   "metadata": {
    "colab": {
     "base_uri": "https://localhost:8080/",
     "height": 452
    },
    "id": "OyW-sVsSddCz",
    "outputId": "9edec683-e338-4bd9-eb86-bfc017e7a847"
   },
   "outputs": [
    {
     "data": {
      "image/png": "[encoded data removed]",
      "text/plain": [
       "<Figure size 640x480 with 1 Axes>"
      ]
     },
     "metadata": {},
     "output_type": "display_data"
    }
   ],
   "source": [
    "import matplotlib.pyplot as plt\n",
    "\n",
    "mape = history.history['mape']\n",
    "val_mape = history.history['val_mape']\n",
    "loss = history.history['loss']\n",
    "val_loss = history.history['val_loss']\n",
    "\n",
    "epochs = range(len(loss))\n",
    "\n",
    "plt.plot(epochs, mape, 'r', label='Training mape')\n",
    "plt.plot(epochs, val_mape, 'b', label='Validation mape')\n",
    "plt.title('Training and validation mape')\n",
    "plt.legend()\n",
    "plt.ylim(ymax=100,ymin=0.01)\n",
    "\n",
    "plt.show()"
   ]
  },
  {
   "cell_type": "markdown",
   "metadata": {
    "id": "0Z0716MOdu66"
   },
   "source": [
    "**Interpret the result:**\n",
    "\n",
    "Compared with the result from the previous model built with CNN and maxpooling, the gap between training mape and validation mape become smaller after we replaced CNNs with LSTM method. The result indicates that using purely LSTM method with word embedding is more helpful in prediction model than using purely CNN method with word embedding.\n"
   ]
  },
  {
   "cell_type": "markdown",
   "metadata": {
    "id": "bfUb9VsDeqLc"
   },
   "source": [
    "# Improve model wtih CNN and LSTM\n",
    "\n",
    "Since we lost the advantage of CNN method for feature extraction, I'm building a model with CNN and LSTM to further improve the result.\n",
    "\n",
    "In this model, I used two convolutional layers with one maxpooling and two LSTM layers with dropout and recurrent dropout of 20% in the first LSTM layer."
   ]
  },
  {
   "cell_type": "code",
   "execution_count": null,
   "metadata": {
    "colab": {
     "base_uri": "https://localhost:8080/"
    },
    "id": "fvW9qASiep7o",
    "outputId": "88bcf927-bb29-43eb-9308-b80a569626a7"
   },
   "outputs": [
    {
     "name": "stdout",
     "output_type": "stream",
     "text": [
      "Epoch 1/10\n",
      "256/256 [==============================] - 20s 55ms/step - loss: 1.0865 - mape: 46.9961 - val_loss: 0.8341 - val_mape: 43.9678\n",
      "Epoch 2/10\n",
      "256/256 [==============================] - 13s 51ms/step - loss: 0.6698 - mape: 31.4069 - val_loss: 0.6123 - val_mape: 28.1983\n",
      "Epoch 3/10\n",
      "256/256 [==============================] - 14s 55ms/step - loss: 0.5236 - mape: 22.8515 - val_loss: 0.5728 - val_mape: 24.6844\n",
      "Epoch 4/10\n",
      "256/256 [==============================] - 13s 52ms/step - loss: 0.5214 - mape: 22.4162 - val_loss: 0.5653 - val_mape: 23.4075\n",
      "Epoch 5/10\n",
      "256/256 [==============================] - 13s 51ms/step - loss: 0.4449 - mape: 18.2324 - val_loss: 0.5565 - val_mape: 23.8142\n",
      "Epoch 6/10\n",
      "256/256 [==============================] - 13s 50ms/step - loss: 0.4467 - mape: 17.9362 - val_loss: 0.5437 - val_mape: 22.9081\n",
      "Epoch 7/10\n",
      "256/256 [==============================] - 11s 44ms/step - loss: 0.3859 - mape: 15.1026 - val_loss: 0.5377 - val_mape: 23.1604\n",
      "Epoch 8/10\n",
      "256/256 [==============================] - 13s 51ms/step - loss: 0.3761 - mape: 14.9552 - val_loss: 0.5298 - val_mape: 21.0555\n",
      "Epoch 9/10\n",
      "256/256 [==============================] - 14s 56ms/step - loss: 0.3496 - mape: 13.2305 - val_loss: 0.5223 - val_mape: 21.7905\n",
      "Epoch 10/10\n",
      "256/256 [==============================] - 13s 52ms/step - loss: 0.3228 - mape: 12.1840 - val_loss: 0.5232 - val_mape: 22.0264\n"
     ]
    }
   ],
   "source": [
    "from keras.models import Sequential\n",
    "from keras.layers import Embedding, LSTM, Conv1D, MaxPooling1D\n",
    "from keras.layers import Dense\n",
    "\n",
    "model = Sequential()\n",
    "embedding_dim = 64\n",
    "model.add(Embedding(max_features, embedding_dim, input_length=maxlen))\n",
    "model.add(layers.Conv1D(64, 5, activation='relu'))\n",
    "model.add(layers.MaxPooling1D(3))\n",
    "model.add(layers.Conv1D(32, 5, activation='relu'))\n",
    "model.add(layers.LSTM(32,dropout=0.2,recurrent_dropout=0.2,return_sequences=True))\n",
    "model.add(layers.LSTM(16))\n",
    "model.add(layers.Dense(1))\n",
    "\n",
    "model.compile(optimizer='adam', loss='mae', metrics='mape')\n",
    "history = model.fit(X_train, y_train,\n",
    "                    epochs=10,\n",
    "                    steps_per_epoch = 256,\n",
    "                    batch_size=batch_size,\n",
    "                   validation_data=(X_test,y_test))\n",
    "keras.backend.clear_session()\n",
    "del model"
   ]
  },
  {
   "cell_type": "code",
   "execution_count": null,
   "metadata": {
    "colab": {
     "base_uri": "https://localhost:8080/",
     "height": 452
    },
    "id": "0tMSpPFNriCh",
    "outputId": "975eee58-6c51-4221-a6f0-a33dc053973d"
   },
   "outputs": [
    {
     "data": {
      "image/png": "[encoded data removed]",
      "text/plain": [
       "<Figure size 640x480 with 1 Axes>"
      ]
     },
     "metadata": {},
     "output_type": "display_data"
    }
   ],
   "source": [
    "import matplotlib.pyplot as plt\n",
    "\n",
    "mape = history.history['mape']\n",
    "val_mape = history.history['val_mape']\n",
    "loss = history.history['loss']\n",
    "val_loss = history.history['val_loss']\n",
    "\n",
    "epochs = range(len(loss))\n",
    "\n",
    "plt.plot(epochs, mape, 'r', label='Training mape')\n",
    "plt.plot(epochs, val_mape, 'b', label='Validation mape')\n",
    "plt.title('Training and validation mape')\n",
    "plt.legend()\n",
    "plt.ylim(ymax=100,ymin=0.01)\n",
    "\n",
    "plt.show()"
   ]
  },
  {
   "cell_type": "markdown",
   "metadata": {
    "id": "XHQYEeInqa6K"
   },
   "source": [
    "# Improve model with CNN and Bidirectional LSTM\n",
    "\n",
    "By using Bidirectional for LSTM layers, we processed the input sequence in both forward and backward directions. This ensured that the network receives information from both the past and the future context at each time step. Therefore, using Bidirectional for LSTM layer will help us to capture more context and dependencies in the data."
   ]
  },
  {
   "cell_type": "code",
   "execution_count": null,
   "metadata": {
    "colab": {
     "base_uri": "https://localhost:8080/"
    },
    "id": "sdrxA-n10N-D",
    "outputId": "1e87222e-234e-4691-c255-125f84a10c8e"
   },
   "outputs": [
    {
     "name": "stdout",
     "output_type": "stream",
     "text": [
      "Epoch 1/10\n",
      "256/256 [==============================] - 34s 83ms/step - loss: 0.9971 - mape: 44.4872 - val_loss: 0.6659 - val_mape: 29.9757\n",
      "Epoch 2/10\n",
      "256/256 [==============================] - 20s 79ms/step - loss: 0.6112 - mape: 27.7034 - val_loss: 0.5850 - val_mape: 27.2908\n",
      "Epoch 3/10\n",
      "256/256 [==============================] - 22s 84ms/step - loss: 0.5148 - mape: 22.1400 - val_loss: 0.5579 - val_mape: 25.1743\n",
      "Epoch 4/10\n",
      "256/256 [==============================] - 21s 84ms/step - loss: 0.5103 - mape: 21.8301 - val_loss: 0.5599 - val_mape: 25.6061\n",
      "Epoch 5/10\n",
      "256/256 [==============================] - 20s 76ms/step - loss: 0.4373 - mape: 18.1738 - val_loss: 0.5510 - val_mape: 22.1607\n",
      "Epoch 6/10\n",
      "256/256 [==============================] - 19s 73ms/step - loss: 0.4500 - mape: 18.1460 - val_loss: 0.5408 - val_mape: 21.9644\n",
      "Epoch 7/10\n",
      "256/256 [==============================] - 21s 81ms/step - loss: 0.3871 - mape: 15.0900 - val_loss: 0.5369 - val_mape: 21.2470\n",
      "Epoch 8/10\n",
      "256/256 [==============================] - 19s 74ms/step - loss: 0.3874 - mape: 15.2337 - val_loss: 0.5320 - val_mape: 22.7557\n",
      "Epoch 9/10\n",
      "256/256 [==============================] - 18s 72ms/step - loss: 0.3389 - mape: 12.6881 - val_loss: 0.5240 - val_mape: 21.5109\n",
      "Epoch 10/10\n",
      "256/256 [==============================] - 21s 82ms/step - loss: 0.3235 - mape: 12.1882 - val_loss: 0.5200 - val_mape: 20.4544\n"
     ]
    }
   ],
   "source": [
    "from keras.models import Sequential\n",
    "from keras.layers import Embedding, LSTM, Conv1D, MaxPooling1D\n",
    "from keras.layers import Dense\n",
    "\n",
    "model = Sequential()\n",
    "embedding_dim = 64\n",
    "model.add(Embedding(max_features, embedding_dim, input_length=maxlen))\n",
    "model.add(layers.Conv1D(64, 5, activation='relu'))\n",
    "model.add(layers.MaxPooling1D(3))\n",
    "model.add(layers.Conv1D(32, 5, activation='relu'))\n",
    "model.add(layers.Bidirectional(\n",
    "    layers.LSTM(32,dropout=0.2,recurrent_dropout=0.2,return_sequences=True)))\n",
    "model.add(layers.Bidirectional(layers.LSTM(16)))\n",
    "model.add(layers.Dense(1))\n",
    "\n",
    "model.compile(optimizer='adam', loss='mae', metrics='mape')\n",
    "history = model.fit(X_train, y_train,\n",
    "                    epochs=10,\n",
    "                    steps_per_epoch = 256,\n",
    "                    batch_size=batch_size,\n",
    "                   validation_data=(X_test,y_test))\n",
    "keras.backend.clear_session()\n",
    "del model"
   ]
  },
  {
   "cell_type": "code",
   "execution_count": null,
   "metadata": {
    "colab": {
     "base_uri": "https://localhost:8080/",
     "height": 452
    },
    "id": "9y1YbJ4RrZ33",
    "outputId": "fa6d246b-a3e1-4df9-fe6e-04f347d54c2d"
   },
   "outputs": [
    {
     "data": {
      "image/png": "[encoded data removed]",
      "text/plain": [
       "<Figure size 640x480 with 1 Axes>"
      ]
     },
     "metadata": {},
     "output_type": "display_data"
    }
   ],
   "source": [
    "import matplotlib.pyplot as plt\n",
    "\n",
    "mape = history.history['mape']\n",
    "val_mape = history.history['val_mape']\n",
    "loss = history.history['loss']\n",
    "val_loss = history.history['val_loss']\n",
    "\n",
    "epochs = range(len(loss))\n",
    "\n",
    "plt.plot(epochs, mape, 'r', label='Training mape')\n",
    "plt.plot(epochs, val_mape, 'b', label='Validation mape')\n",
    "plt.title('Training and validation mape')\n",
    "plt.legend()\n",
    "plt.ylim(ymax=100,ymin=0.01)\n",
    "\n",
    "plt.show()"
   ]
  },
  {
   "cell_type": "markdown",
   "metadata": {
    "id": "zwR12yi6fhum"
   },
   "source": [
    "# Save Model"
   ]
  },
  {
   "cell_type": "code",
   "execution_count": null,
   "metadata": {
    "id": "eyqfEaHKgz_H"
   },
   "outputs": [],
   "source": [
    "model.save(\"/content/drive/MyDrive/Colab Notebooks/SU23 Deep Learning/Final Project/YelpRatingPrediction.h5\")"
   ]
  }
 ],
 "metadata": {
  "colab": {
   "provenance": []
  },
  "kernelspec": {
   "display_name": "Python 3 (ipykernel)",
   "language": "python",
   "name": "python3"
  },
  "language_info": {
   "codemirror_mode": {
    "name": "ipython",
    "version": 3
   },
   "file_extension": ".py",
   "mimetype": "text/x-python",
   "name": "python",
   "nbconvert_exporter": "python",
   "pygments_lexer": "ipython3",
   "version": "3.9.16"
  }
 },
 "nbformat": 4,
 "nbformat_minor": 1
}
